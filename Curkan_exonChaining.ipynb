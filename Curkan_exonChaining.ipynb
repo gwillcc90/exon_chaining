{
 "cells": [
  {
   "cell_type": "code",
   "execution_count": 12,
   "id": "d8dedb0b",
   "metadata": {},
   "outputs": [],
   "source": [
    "import numpy as np"
   ]
  },
  {
   "cell_type": "code",
   "execution_count": 13,
   "id": "be57db60",
   "metadata": {},
   "outputs": [],
   "source": [
    "# So free!!!!\n",
    "def read_matrix(file_name):\n",
    "    '''\n",
    "    Read an alignment matrix stored in a file.\n",
    "    \n",
    "    Opens file, the comprehension reads each line in the file iteratively while the .split()\n",
    "    takes each line and splits on whatever whitespace delimiter it finds. This gives a nested list\n",
    "    of integers represented as strings. \n",
    "    \n",
    "    Matrix is returned as a 2D NumPy array (dtype arg automatically converts strings to dtype).\n",
    "    \n",
    "    \n",
    "    ARGS\n",
    "    ----\n",
    "    filename: file name of a stored alignment matrix\n",
    "    \n",
    "    RETURNS\n",
    "    -------\n",
    "    2D NumPy array of type int\n",
    "    '''\n",
    "    with open(file_name, 'r') as file:              # Open file\n",
    "        matrix = [line.split() for line in file]    # Read lines and .split() lines into lists of integers\n",
    "        return np.array(matrix, dtype = int)        # Return 2D array of integers"
   ]
  },
  {
   "cell_type": "code",
   "execution_count": null,
   "id": "d2c1a1c6",
   "metadata": {},
   "outputs": [],
   "source": []
  },
  {
   "cell_type": "code",
   "execution_count": 50,
   "id": "40d6347f",
   "metadata": {},
   "outputs": [
    {
     "name": "stdout",
     "output_type": "stream",
     "text": [
      "[[-1  0 -1 -1  5 -1 -1 -1]\n",
      " [-1 -1  1 -1 -1 -1 -1 -1]\n",
      " [-1 -1 -1  0 -1 -1 -1 -1]\n",
      " [-1 -1 -1 -1  0 -1 -1 11]\n",
      " [-1 -1 -1 -1 -1  0 -1 -1]\n",
      " [-1 -1 -1 -1 -1 -1  7 -1]\n",
      " [-1 -1 -1 -1 -1 -1 -1  0]\n",
      " [-1 -1 -1 -1 -1 -1 -1 -1]]\n",
      "\n",
      "[[-1 -1 -1 -1 -1 -1 -1 -1]\n",
      " [ 0 -1 -1 -1 -1 -1 -1 -1]\n",
      " [-1  1 -1 -1 -1 -1 -1 -1]\n",
      " [-1 -1  0 -1 -1 -1 -1 -1]\n",
      " [ 5 -1 -1  0 -1 -1 -1 -1]\n",
      " [-1 -1 -1 -1  0 -1 -1 -1]\n",
      " [-1 -1 -1 -1 -1  7 -1 -1]\n",
      " [-1 -1 -1 11 -1 -1  0 -1]]\n",
      "0\n",
      "[array([-1, -1, -1, -1, -1, -1, -1, -1]), array([ 0, -1, -1, -1, -1, -1, -1, -1]), array([-1,  1, -1, -1, -1, -1, -1, -1]), array([-1, -1,  0, -1, -1, -1, -1, -1]), array([ 5, -1, -1,  0, -1, -1, -1, -1]), array([-1, -1, -1, -1,  0, -1, -1, -1]), array([-1, -1, -1, -1, -1,  7, -1, -1]), array([-1, -1, -1, 11, -1, -1,  0, -1])]\n",
      "\n",
      "0\n",
      "-1\n",
      "[ 0  0  1  0  5  0  7 11]\n",
      "[0 0 1 0 0 0 7 0]\n",
      "[ 0  0  1  1  5  5  7 11]\n"
     ]
    }
   ],
   "source": [
    "def main():\n",
    "    \n",
    "    # string literals for matrix test files\n",
    "    test_matrix_files = ['matrix4.txt', 'matrix5.txt']\n",
    "    # read each matrix; store matrix ndarray objects in a list\n",
    "    test_matrices = [read_matrix(file) for file in test_matrix_files]\n",
    "\n",
    "    print(test_matrices[0], end = '\\n\\n')\n",
    "    print(test_matrices[0].T)\n",
    "    print(np.argmax(test_matrices[0].T[4]))\n",
    "    \n",
    "    print([test_matrices[0].T[i] for i in range(test_matrices[0].T.shape[0])])\n",
    "    \n",
    "    print()\n",
    "    print(np.argmax(test_matrices[0].T[0]))\n",
    "    print(test_matrices[0].T[0][np.argmax(test_matrices[0].T[0])])\n",
    "    \n",
    "    a = np.array([test_matrices[0].T[i][np.argmax(test_matrices[0].T[i])] for i in range(test_matrices[0].T.shape[0])])\n",
    "    a = np.where(a < 0, 0, a)\n",
    "    print(a)\n",
    "    b = np.array([0, 0, 1, 0, 0, 0, 7, 0], dtype = int)\n",
    "    print(b)\n",
    "    \n",
    "    for i in range(len(a)):\n",
    "        if i == 0 or i == 1:\n",
    "            continue\n",
    "        else:\n",
    "            if a[i] < a[i-1]:\n",
    "                a[i] = a[i-1]\n",
    "                \n",
    "    print(a)\n",
    "        \n",
    "    \n",
    "    \n",
    "main()"
   ]
  },
  {
   "cell_type": "code",
   "execution_count": null,
   "id": "9cfd3cfd",
   "metadata": {},
   "outputs": [],
   "source": []
  }
 ],
 "metadata": {
  "kernelspec": {
   "display_name": "Python 3 (ipykernel)",
   "language": "python",
   "name": "python3"
  },
  "language_info": {
   "codemirror_mode": {
    "name": "ipython",
    "version": 3
   },
   "file_extension": ".py",
   "mimetype": "text/x-python",
   "name": "python",
   "nbconvert_exporter": "python",
   "pygments_lexer": "ipython3",
   "version": "3.10.9"
  }
 },
 "nbformat": 4,
 "nbformat_minor": 5
}
