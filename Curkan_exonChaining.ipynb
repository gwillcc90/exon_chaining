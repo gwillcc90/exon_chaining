{
 "cells": [
  {
   "cell_type": "code",
   "execution_count": 76,
   "id": "91cf6fb3",
   "metadata": {},
   "outputs": [],
   "source": [
    "import numpy as np\n",
    "from icecream import ic"
   ]
  },
  {
   "cell_type": "code",
   "execution_count": 77,
   "id": "017d1a07",
   "metadata": {},
   "outputs": [],
   "source": [
    "# So free!!!!\n",
    "def read_matrix(file_name):\n",
    "    '''\n",
    "    Read an alignment matrix stored in a file.\n",
    "    \n",
    "    Opens file, the comprehension reads each line in the file iteratively while the .split()\n",
    "    takes each line and splits on whatever whitespace delimiter it finds. This gives a nested list\n",
    "    of integers represented as strings. \n",
    "    \n",
    "    Matrix is returned as a 2D NumPy array (dtype arg automatically converts strings to dtype).\n",
    "    \n",
    "    \n",
    "    ARGS\n",
    "    ----\n",
    "    filename: file name of a stored alignment matrix\n",
    "    \n",
    "    RETURNS\n",
    "    -------\n",
    "    2D NumPy array of type int\n",
    "    '''\n",
    "    with open(file_name, 'r') as file:              # Open file\n",
    "        matrix = [line.split() for line in file]    # Read lines and .split() lines into lists of integers\n",
    "        return np.array(matrix, dtype = int)        # Return 2D array of integers"
   ]
  },
  {
   "cell_type": "code",
   "execution_count": 97,
   "id": "c014afd4",
   "metadata": {},
   "outputs": [],
   "source": [
    "def score_chain(matrix):\n",
    "    # Matrix must be type ndarray from numpy\n",
    "    assert type(matrix) == type(np.array([])), f'expected type {type(np.array([]))}\\\n",
    "    got {type(matrix)}'\n",
    "    # Must be 2D\n",
    "    assert len(matrix.shape) == 2, f'expected 2D array, got {len(matrix.shape)} dimensions'\n",
    "    # Must be N x N\n",
    "    assert matrix.shape[0] == matrix.shape[1], f'expected square matrix, got {matrix.shape[0]}\\\n",
    "    x {matrix.shape[1]}'\n",
    "    \n",
    "    # Get size for score chain\n",
    "    chain_len = matrix.shape[0]\n",
    "    # Create score chain of length `chain_len`\n",
    "    chain = np.zeros(chain_len, dtype = int)\n",
    "    \n",
    "    for i in range(1, len(chain)):\n",
    "        max_dist = 0\n",
    "        for j in range(0, i):\n",
    "            if (chain[j] + matrix[j][i]) > max_dist:\n",
    "                max_dist = chain[j] + matrix[j][i]\n",
    "        chain[i] = max_dist\n",
    "    \n",
    "    return chain"
   ]
  },
  {
   "cell_type": "code",
   "execution_count": 99,
   "id": "ded8e368",
   "metadata": {},
   "outputs": [
    {
     "name": "stdout",
     "output_type": "stream",
     "text": [
      "matrix4.txt:\n",
      "[ 0  0  1  1  5  5 12 12]\n",
      "\n",
      "matrix5.txt:\n",
      "[0 0 1 1 4 4 4 6]\n",
      "\n"
     ]
    }
   ],
   "source": [
    "def main():\n",
    "    \n",
    "    # string literals for matrix test files\n",
    "    test_matrix_files = ['matrix4.txt', 'matrix5.txt']\n",
    "    # read each matrix; store matrix ndarray objects in a list\n",
    "    test_matrices = [read_matrix(file) for file in test_matrix_files]\n",
    "\n",
    "    for header, matrix in zip(test_matrix_files, test_matrices):\n",
    "        print(f'{header}:')\n",
    "        print(score_chain(matrix), end = '\\n\\n')\n",
    "    \n",
    "        \n",
    "    \n",
    "    \n",
    "main()"
   ]
  },
  {
   "cell_type": "code",
   "execution_count": null,
   "id": "68c54667",
   "metadata": {},
   "outputs": [],
   "source": []
  }
 ],
 "metadata": {
  "kernelspec": {
   "display_name": "Python 3 (ipykernel)",
   "language": "python",
   "name": "python3"
  },
  "language_info": {
   "codemirror_mode": {
    "name": "ipython",
    "version": 3
   },
   "file_extension": ".py",
   "mimetype": "text/x-python",
   "name": "python",
   "nbconvert_exporter": "python",
   "pygments_lexer": "ipython3",
   "version": "3.10.9"
  }
 },
 "nbformat": 4,
 "nbformat_minor": 5
}
