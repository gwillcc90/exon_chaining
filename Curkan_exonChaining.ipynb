{
 "cells": [
  {
   "cell_type": "code",
   "execution_count": 12,
   "id": "410a2c3a",
   "metadata": {},
   "outputs": [],
   "source": [
    "import numpy as np"
   ]
  },
  {
   "cell_type": "code",
   "execution_count": 13,
   "id": "d0e18a51",
   "metadata": {},
   "outputs": [],
   "source": [
    "# Free!!!!\n",
    "def read_matrix(file_name):\n",
    "    '''\n",
    "    Read an alignment matrix stored in a file.\n",
    "    \n",
    "    Opens file, the comprehension reads each line in the file iteratively while the .split()\n",
    "    takes each line and splits on whatever whitespace delimiter it finds. This gives a nested list\n",
    "    of integers represented as strings. \n",
    "    \n",
    "    Matrix is returned as a 2D NumPy array (dtype arg automatically converts strings to dtype).\n",
    "    \n",
    "    \n",
    "    ARGS\n",
    "    ----\n",
    "    filename: file name of a stored alignment matrix\n",
    "    \n",
    "    RETURNS\n",
    "    -------\n",
    "    2D NumPy array of type int\n",
    "    '''\n",
    "    with open(file_name, 'r') as file:              # Open file\n",
    "        matrix = [line.split() for line in file]    # Read lines and .split() lines into lists of integers\n",
    "        return np.array(matrix, dtype = int)        # Return 2D array of integers"
   ]
  },
  {
   "cell_type": "code",
   "execution_count": null,
   "id": "583b3563",
   "metadata": {},
   "outputs": [],
   "source": []
  },
  {
   "cell_type": "code",
   "execution_count": 18,
   "id": "e31df2ef",
   "metadata": {},
   "outputs": [
    {
     "name": "stdout",
     "output_type": "stream",
     "text": [
      "[[-1  0 -1 -1  5 -1 -1 -1]\n",
      " [-1 -1  1 -1 -1 -1 -1 -1]\n",
      " [-1 -1 -1  0 -1 -1 -1 -1]\n",
      " [-1 -1 -1 -1  0 -1 -1 11]\n",
      " [-1 -1 -1 -1 -1  0 -1 -1]\n",
      " [-1 -1 -1 -1 -1 -1  7 -1]\n",
      " [-1 -1 -1 -1 -1 -1 -1  0]\n",
      " [-1 -1 -1 -1 -1 -1 -1 -1]]\n",
      "\n",
      "[[-1  0 -1 -1  4 -1 -1 -1]\n",
      " [-1 -1  1 -1 -1 -1 -1 -1]\n",
      " [-1 -1 -1  0 -1 -1 -1 -1]\n",
      " [-1 -1 -1 -1  0  3 -1 -1]\n",
      " [-1 -1 -1 -1 -1  0 -1 -1]\n",
      " [-1 -1 -1 -1 -1 -1  0 -1]\n",
      " [-1 -1 -1 -1 -1 -1 -1  2]\n",
      " [-1 -1 -1 -1 -1 -1 -1 -1]]\n",
      "\n",
      "<class 'numpy.ndarray'>\n",
      "\n",
      "<class 'numpy.ndarray'>\n"
     ]
    }
   ],
   "source": [
    "def main():\n",
    "    \n",
    "    # string literals for matrix test files\n",
    "    test_matrix_files = ['matrix4.txt', 'matrix5.txt']\n",
    "    # read each matrix; store matrix ndarray objects in a list\n",
    "    test_matrices = [read_matrix(file) for file in test_matrix_files]\n",
    "\n",
    "    print(test_matrices[0], end = '\\n\\n')\n",
    "    print(test_matrices[1])\n",
    "    print()\n",
    "    print(type(test_matrices[0]), end = '\\n\\n')\n",
    "    print(type(test_matrices[1]))\n",
    "    \n",
    "main()"
   ]
  },
  {
   "cell_type": "code",
   "execution_count": null,
   "id": "3d842be2",
   "metadata": {},
   "outputs": [],
   "source": []
  }
 ],
 "metadata": {
  "kernelspec": {
   "display_name": "Python 3 (ipykernel)",
   "language": "python",
   "name": "python3"
  },
  "language_info": {
   "codemirror_mode": {
    "name": "ipython",
    "version": 3
   },
   "file_extension": ".py",
   "mimetype": "text/x-python",
   "name": "python",
   "nbconvert_exporter": "python",
   "pygments_lexer": "ipython3",
   "version": "3.10.9"
  }
 },
 "nbformat": 4,
 "nbformat_minor": 5
}
