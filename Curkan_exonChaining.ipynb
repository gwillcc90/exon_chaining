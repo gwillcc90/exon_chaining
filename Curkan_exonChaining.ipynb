{
 "cells": [
  {
   "cell_type": "code",
   "execution_count": 76,
   "id": "9e6d73da",
   "metadata": {},
   "outputs": [],
   "source": [
    "import numpy as np\n",
    "from icecream import ic"
   ]
  },
  {
   "cell_type": "code",
   "execution_count": 77,
   "id": "e7cd1232",
   "metadata": {},
   "outputs": [],
   "source": [
    "# So free!!!!\n",
    "def read_matrix(file_name):\n",
    "    '''\n",
    "    Read an alignment matrix stored in a file.\n",
    "    \n",
    "    Opens file, the comprehension reads each line in the file iteratively while the .split()\n",
    "    takes each line and splits on whatever whitespace delimiter it finds. This gives a nested list\n",
    "    of integers represented as strings. \n",
    "    \n",
    "    Matrix is returned as a 2D NumPy array (dtype arg automatically converts strings to dtype).\n",
    "    \n",
    "    \n",
    "    ARGS\n",
    "    ----\n",
    "    filename: file name of a stored alignment matrix\n",
    "    \n",
    "    RETURNS\n",
    "    -------\n",
    "    2D NumPy array of type int\n",
    "    '''\n",
    "    with open(file_name, 'r') as file:              # Open file\n",
    "        matrix = [line.split() for line in file]    # Read lines and .split() lines into lists of integers\n",
    "        return np.array(matrix, dtype = int)        # Return 2D array of integers"
   ]
  },
  {
   "cell_type": "code",
   "execution_count": null,
   "id": "ec47a5ac",
   "metadata": {},
   "outputs": [],
   "source": []
  },
  {
   "cell_type": "code",
   "execution_count": 85,
   "id": "baa02ef1",
   "metadata": {},
   "outputs": [
    {
     "name": "stderr",
     "output_type": "stream",
     "text": [
      "ic| i: 1\n",
      "ic| j: 0\n",
      "ic| i: 2\n",
      "ic| j: 0\n",
      "ic| j: 1\n",
      "ic| i: 3\n",
      "ic| j: 0\n",
      "ic| j: 1\n",
      "ic| j: 2\n",
      "ic| i: 4\n",
      "ic| j: 0\n",
      "ic| j: 1\n",
      "ic| j: 2\n",
      "ic| j: 3\n",
      "ic| i: 5\n",
      "ic| j: 0\n"
     ]
    },
    {
     "name": "stdout",
     "output_type": "stream",
     "text": [
      "[[-1  0 -1 -1  5 -1 -1 -1]\n",
      " [-1 -1  1 -1 -1 -1 -1 -1]\n",
      " [-1 -1 -1  0 -1 -1 -1 -1]\n",
      " [-1 -1 -1 -1  0 -1 -1 11]\n",
      " [-1 -1 -1 -1 -1  0 -1 -1]\n",
      " [-1 -1 -1 -1 -1 -1  7 -1]\n",
      " [-1 -1 -1 -1 -1 -1 -1  0]\n",
      " [-1 -1 -1 -1 -1 -1 -1 -1]]\n",
      "\n",
      "[0 0 0 0 0 0 0 0]\n"
     ]
    },
    {
     "name": "stderr",
     "output_type": "stream",
     "text": [
      "ic| j: 1\n",
      "ic| j: 2\n",
      "ic| j: 3\n",
      "ic| j: 4\n",
      "ic| i: 6\n",
      "ic| j: 0\n",
      "ic| j: 1\n",
      "ic| j: 2\n",
      "ic| j: 3\n",
      "ic| j: 4\n",
      "ic| j: 5\n",
      "ic| i: 7\n",
      "ic| j: 0\n",
      "ic| j: 1\n",
      "ic| j: 2\n",
      "ic| j: 3\n",
      "ic| j: 4\n",
      "ic| j: 5\n",
      "ic| j: 6\n"
     ]
    },
    {
     "name": "stdout",
     "output_type": "stream",
     "text": [
      "\n",
      "[ 0  0  1  1  5  5 12 12]\n"
     ]
    }
   ],
   "source": [
    "def main():\n",
    "    \n",
    "    # string literals for matrix test files\n",
    "    test_matrix_files = ['matrix4.txt', 'matrix5.txt']\n",
    "    # read each matrix; store matrix ndarray objects in a list\n",
    "    test_matrices = [read_matrix(file) for file in test_matrix_files]\n",
    "\n",
    "    print(test_matrices[0], end = '\\n\\n')\n",
    "#     print(test_matrices[0].T)\n",
    "#     print(np.argmax(test_matrices[0].T[4]))\n",
    "    \n",
    "#     print([test_matrices[0].T[i] for i in range(test_matrices[0].T.shape[0])])\n",
    "    \n",
    "#     print()\n",
    "#     print(np.argmax(test_matrices[0].T[0]))\n",
    "#     print(test_matrices[0].T[0][np.argmax(test_matrices[0].T[0])])\n",
    "    \n",
    "#     a = np.array([test_matrices[0].T[i][np.argmax(test_matrices[0].T[i])] for i in range(test_matrices[0].T.shape[0])])\n",
    "#     a = np.where(a < 0, 0, a)\n",
    "#     print(a)\n",
    "#     b = np.array([0, 0, 1, 0, 0, 0, 7, 0], dtype = int)\n",
    "#     print(b)\n",
    "    \n",
    "#     for i in range(len(a)):\n",
    "#         if i == 0 or i == 1:\n",
    "#             continue\n",
    "#         else:\n",
    "#             if a[i] < a[i-1]:\n",
    "#                 a[i] = a[i-1]\n",
    "                \n",
    "#     print(a)\n",
    "\n",
    "    chain = np.zeros(test_matrices[0].shape[0], dtype = int)\n",
    "    print(chain)\n",
    "    \n",
    "    for i in range(1, len(chain)):\n",
    "        ic(i)\n",
    "        max_dist = 0\n",
    "        for j in range(0, i):\n",
    "            ic(j)\n",
    "            if (chain[j] + test_matrices[0][j][i]) > max_dist:\n",
    "                max_dist = chain[j] + test_matrices[0][j][i]\n",
    "        chain[i] = max_dist\n",
    "    print()\n",
    "    \n",
    "    print(chain)\n",
    "    \n",
    "        \n",
    "    \n",
    "    \n",
    "main()"
   ]
  },
  {
   "cell_type": "code",
   "execution_count": 52,
   "id": "3db29189",
   "metadata": {},
   "outputs": [
    {
     "data": {
      "text/plain": [
       "array([[0, 0],\n",
       "       [0, 0]])"
      ]
     },
     "execution_count": 52,
     "metadata": {},
     "output_type": "execute_result"
    }
   ],
   "source": [
    "np.zeros((2,2), dtype = int)"
   ]
  },
  {
   "cell_type": "code",
   "execution_count": null,
   "id": "60096206",
   "metadata": {},
   "outputs": [],
   "source": []
  }
 ],
 "metadata": {
  "kernelspec": {
   "display_name": "Python 3 (ipykernel)",
   "language": "python",
   "name": "python3"
  },
  "language_info": {
   "codemirror_mode": {
    "name": "ipython",
    "version": 3
   },
   "file_extension": ".py",
   "mimetype": "text/x-python",
   "name": "python",
   "nbconvert_exporter": "python",
   "pygments_lexer": "ipython3",
   "version": "3.10.9"
  }
 },
 "nbformat": 4,
 "nbformat_minor": 5
}
